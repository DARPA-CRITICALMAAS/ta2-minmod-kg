{
 "cells": [
  {
   "cell_type": "code",
   "execution_count": 1,
   "metadata": {},
   "outputs": [],
   "source": [
    "import os, deepreload, warnings\n",
    "import serde.json\n",
    "\n",
    "# os.environ[\"CDR_AUTH_TOKEN\"] = \"\"\n",
    "\n",
    "warnings.filterwarnings(\"ignore\")"
   ]
  },
  {
   "cell_type": "code",
   "execution_count": 2,
   "metadata": {},
   "outputs": [],
   "source": [
    "from minmodkg.integrations.cdr import *\n",
    "\n",
    "deepreload.reload(\"minmodkg.integrations.cdr\")\n",
    "from minmodkg.integrations.cdr import *"
   ]
  },
  {
   "cell_type": "code",
   "execution_count": 3,
   "metadata": {},
   "outputs": [],
   "source": [
    "if os.path.exists(\"tt8tty1.json\"):\n",
    "    dedup_sites = serde.json.deser(\"tt8tty1.json\")\n",
    "else:\n",
    "    resp = httpx.get(\n",
    "        f\"http://localhost:8080/api/v1/dedup-mineral-sites\",\n",
    "        params={},\n",
    "        verify=False,\n",
    "        timeout=None,\n",
    "    )\n",
    "    resp.raise_for_status()\n",
    "    serde.json.ser(resp.json(), \"tt8tty1.json\")\n",
    "    dedup_sites = resp.json()"
   ]
  },
  {
   "cell_type": "code",
   "execution_count": 4,
   "metadata": {},
   "outputs": [
    {
     "data": {
      "text/plain": [
       "(371497, 421878)"
      ]
     },
     "execution_count": 4,
     "metadata": {},
     "output_type": "execute_result"
    }
   ],
   "source": [
    "len(dedup_sites), sum([len(v[\"sites\"]) for v in dedup_sites])"
   ]
  },
  {
   "cell_type": "code",
   "execution_count": 5,
   "metadata": {},
   "outputs": [],
   "source": [
    "commodity_id2name = MinmodHelper.get_commodity_id2name()"
   ]
  },
  {
   "cell_type": "code",
   "execution_count": 7,
   "metadata": {},
   "outputs": [
    {
     "name": "stderr",
     "output_type": "stream",
     "text": [
      "100%|██████████| 371497/371497 [00:20<00:00, 18070.26it/s]\n"
     ]
    }
   ],
   "source": [
    "inputs = []\n",
    "for dedup_site in tqdm(dedup_sites):\n",
    "    for fmt_dedup_site in format_dedup_site(\n",
    "        DedupMineralSitePublic.model_validate(dedup_site),\n",
    "        commodity_id2name,\n",
    "    ):\n",
    "        inputs.append(orjson.loads(fmt_dedup_site.model_dump_json(exclude_none=True)))"
   ]
  },
  {
   "cell_type": "code",
   "execution_count": 15,
   "metadata": {},
   "outputs": [
    {
     "name": "stdout",
     "output_type": "stream",
     "text": [
      "Truncating endpoint dedup-sites: 1.413 seconds\n"
     ]
    }
   ],
   "source": [
    "CDRHelper.truncate(CDRHelper.DedupSites)"
   ]
  },
  {
   "cell_type": "code",
   "execution_count": 16,
   "metadata": {},
   "outputs": [
    {
     "name": "stderr",
     "output_type": "stream",
     "text": [
      "  2%|▏         | 1/63 [00:53<55:07, 53.35s/it]"
     ]
    },
    {
     "name": "stdout",
     "output_type": "stream",
     "text": [
      "null\n",
      "Upload the whole collection to endpoint dedup-sites: 53.342 seconds\n"
     ]
    },
    {
     "name": "stderr",
     "output_type": "stream",
     "text": [
      "  3%|▎         | 2/63 [01:07<30:37, 30.12s/it]"
     ]
    },
    {
     "name": "stdout",
     "output_type": "stream",
     "text": [
      "null\n",
      "Upload the whole collection to endpoint dedup-sites: 13.853 seconds\n"
     ]
    },
    {
     "name": "stderr",
     "output_type": "stream",
     "text": [
      "  5%|▍         | 3/63 [01:19<21:47, 21.78s/it]"
     ]
    },
    {
     "name": "stdout",
     "output_type": "stream",
     "text": [
      "null\n",
      "Upload the whole collection to endpoint dedup-sites: 11.856 seconds\n"
     ]
    },
    {
     "name": "stderr",
     "output_type": "stream",
     "text": [
      "  6%|▋         | 4/63 [01:29<16:59, 17.27s/it]"
     ]
    },
    {
     "name": "stdout",
     "output_type": "stream",
     "text": [
      "null\n",
      "Upload the whole collection to endpoint dedup-sites: 10.352 seconds\n"
     ]
    },
    {
     "name": "stderr",
     "output_type": "stream",
     "text": [
      "  8%|▊         | 5/63 [01:39<14:14, 14.73s/it]"
     ]
    },
    {
     "name": "stdout",
     "output_type": "stream",
     "text": [
      "null\n",
      "Upload the whole collection to endpoint dedup-sites: 10.208 seconds\n"
     ]
    },
    {
     "name": "stderr",
     "output_type": "stream",
     "text": [
      " 10%|▉         | 6/63 [01:51<12:56, 13.62s/it]"
     ]
    },
    {
     "name": "stdout",
     "output_type": "stream",
     "text": [
      "null\n",
      "Upload the whole collection to endpoint dedup-sites: 11.478 seconds\n"
     ]
    },
    {
     "name": "stderr",
     "output_type": "stream",
     "text": [
      " 11%|█         | 7/63 [02:02<12:04, 12.93s/it]"
     ]
    },
    {
     "name": "stdout",
     "output_type": "stream",
     "text": [
      "null\n",
      "Upload the whole collection to endpoint dedup-sites: 11.496 seconds\n"
     ]
    },
    {
     "name": "stderr",
     "output_type": "stream",
     "text": [
      " 13%|█▎        | 8/63 [02:20<13:19, 14.54s/it]"
     ]
    },
    {
     "name": "stdout",
     "output_type": "stream",
     "text": [
      "null\n",
      "Upload the whole collection to endpoint dedup-sites: 17.984 seconds\n"
     ]
    },
    {
     "name": "stderr",
     "output_type": "stream",
     "text": [
      " 14%|█▍        | 9/63 [02:35<13:19, 14.80s/it]"
     ]
    },
    {
     "name": "stdout",
     "output_type": "stream",
     "text": [
      "null\n",
      "Upload the whole collection to endpoint dedup-sites: 15.358 seconds\n"
     ]
    },
    {
     "name": "stderr",
     "output_type": "stream",
     "text": [
      " 16%|█▌        | 10/63 [02:48<12:31, 14.17s/it]"
     ]
    },
    {
     "name": "stdout",
     "output_type": "stream",
     "text": [
      "null\n",
      "Upload the whole collection to endpoint dedup-sites: 12.767 seconds\n"
     ]
    },
    {
     "name": "stderr",
     "output_type": "stream",
     "text": [
      " 17%|█▋        | 11/63 [03:02<12:15, 14.14s/it]"
     ]
    },
    {
     "name": "stdout",
     "output_type": "stream",
     "text": [
      "null\n",
      "Upload the whole collection to endpoint dedup-sites: 14.053 seconds\n"
     ]
    },
    {
     "name": "stderr",
     "output_type": "stream",
     "text": [
      " 19%|█▉        | 12/63 [03:16<11:49, 13.91s/it]"
     ]
    },
    {
     "name": "stdout",
     "output_type": "stream",
     "text": [
      "null\n",
      "Upload the whole collection to endpoint dedup-sites: 13.395 seconds\n"
     ]
    },
    {
     "name": "stderr",
     "output_type": "stream",
     "text": [
      " 21%|██        | 13/63 [03:31<11:50, 14.20s/it]"
     ]
    },
    {
     "name": "stdout",
     "output_type": "stream",
     "text": [
      "null\n",
      "Upload the whole collection to endpoint dedup-sites: 14.860 seconds\n"
     ]
    },
    {
     "name": "stderr",
     "output_type": "stream",
     "text": [
      " 22%|██▏       | 14/63 [03:45<11:33, 14.15s/it]"
     ]
    },
    {
     "name": "stdout",
     "output_type": "stream",
     "text": [
      "null\n",
      "Upload the whole collection to endpoint dedup-sites: 14.013 seconds\n"
     ]
    },
    {
     "name": "stderr",
     "output_type": "stream",
     "text": [
      " 24%|██▍       | 15/63 [05:24<31:56, 39.92s/it]"
     ]
    },
    {
     "name": "stdout",
     "output_type": "stream",
     "text": [
      "null\n",
      "Upload the whole collection to endpoint dedup-sites: 99.624 seconds\n"
     ]
    },
    {
     "name": "stderr",
     "output_type": "stream",
     "text": [
      " 25%|██▌       | 16/63 [05:37<24:49, 31.69s/it]"
     ]
    },
    {
     "name": "stdout",
     "output_type": "stream",
     "text": [
      "null\n",
      "Upload the whole collection to endpoint dedup-sites: 12.559 seconds\n"
     ]
    },
    {
     "name": "stderr",
     "output_type": "stream",
     "text": [
      " 27%|██▋       | 17/63 [05:50<19:55, 25.98s/it]"
     ]
    },
    {
     "name": "stdout",
     "output_type": "stream",
     "text": [
      "null\n",
      "Upload the whole collection to endpoint dedup-sites: 12.711 seconds\n"
     ]
    },
    {
     "name": "stderr",
     "output_type": "stream",
     "text": [
      " 29%|██▊       | 18/63 [06:09<17:55, 23.89s/it]"
     ]
    },
    {
     "name": "stdout",
     "output_type": "stream",
     "text": [
      "null\n",
      "Upload the whole collection to endpoint dedup-sites: 19.017 seconds\n"
     ]
    },
    {
     "name": "stderr",
     "output_type": "stream",
     "text": [
      " 30%|███       | 19/63 [06:23<15:19, 20.90s/it]"
     ]
    },
    {
     "name": "stdout",
     "output_type": "stream",
     "text": [
      "null\n",
      "Upload the whole collection to endpoint dedup-sites: 13.945 seconds\n"
     ]
    },
    {
     "name": "stderr",
     "output_type": "stream",
     "text": [
      " 32%|███▏      | 20/63 [06:36<13:20, 18.62s/it]"
     ]
    },
    {
     "name": "stdout",
     "output_type": "stream",
     "text": [
      "null\n",
      "Upload the whole collection to endpoint dedup-sites: 13.286 seconds\n"
     ]
    },
    {
     "name": "stderr",
     "output_type": "stream",
     "text": [
      " 33%|███▎      | 21/63 [06:49<11:55, 17.05s/it]"
     ]
    },
    {
     "name": "stdout",
     "output_type": "stream",
     "text": [
      "null\n",
      "Upload the whole collection to endpoint dedup-sites: 13.368 seconds\n"
     ]
    },
    {
     "name": "stderr",
     "output_type": "stream",
     "text": [
      " 35%|███▍      | 22/63 [07:03<11:00, 16.12s/it]"
     ]
    },
    {
     "name": "stdout",
     "output_type": "stream",
     "text": [
      "null\n",
      "Upload the whole collection to endpoint dedup-sites: 13.949 seconds\n"
     ]
    },
    {
     "name": "stderr",
     "output_type": "stream",
     "text": [
      " 37%|███▋      | 23/63 [07:15<09:52, 14.80s/it]"
     ]
    },
    {
     "name": "stdout",
     "output_type": "stream",
     "text": [
      "null\n",
      "Upload the whole collection to endpoint dedup-sites: 11.731 seconds\n"
     ]
    },
    {
     "name": "stderr",
     "output_type": "stream",
     "text": [
      " 38%|███▊      | 24/63 [07:29<09:27, 14.55s/it]"
     ]
    },
    {
     "name": "stdout",
     "output_type": "stream",
     "text": [
      "null\n",
      "Upload the whole collection to endpoint dedup-sites: 13.973 seconds\n"
     ]
    },
    {
     "name": "stderr",
     "output_type": "stream",
     "text": [
      " 40%|███▉      | 25/63 [07:43<09:03, 14.31s/it]"
     ]
    },
    {
     "name": "stdout",
     "output_type": "stream",
     "text": [
      "null\n",
      "Upload the whole collection to endpoint dedup-sites: 13.721 seconds\n"
     ]
    },
    {
     "name": "stderr",
     "output_type": "stream",
     "text": [
      " 41%|████▏     | 26/63 [07:56<08:40, 14.07s/it]"
     ]
    },
    {
     "name": "stdout",
     "output_type": "stream",
     "text": [
      "null\n",
      "Upload the whole collection to endpoint dedup-sites: 13.487 seconds\n"
     ]
    },
    {
     "name": "stderr",
     "output_type": "stream",
     "text": [
      " 43%|████▎     | 27/63 [08:09<08:17, 13.81s/it]"
     ]
    },
    {
     "name": "stdout",
     "output_type": "stream",
     "text": [
      "null\n",
      "Upload the whole collection to endpoint dedup-sites: 13.205 seconds\n"
     ]
    },
    {
     "name": "stderr",
     "output_type": "stream",
     "text": [
      " 44%|████▍     | 28/63 [08:24<08:16, 14.19s/it]"
     ]
    },
    {
     "name": "stdout",
     "output_type": "stream",
     "text": [
      "null\n",
      "Upload the whole collection to endpoint dedup-sites: 15.071 seconds\n"
     ]
    },
    {
     "name": "stderr",
     "output_type": "stream",
     "text": [
      " 46%|████▌     | 29/63 [08:46<09:17, 16.41s/it]"
     ]
    },
    {
     "name": "stdout",
     "output_type": "stream",
     "text": [
      "null\n",
      "Upload the whole collection to endpoint dedup-sites: 21.589 seconds\n"
     ]
    },
    {
     "name": "stderr",
     "output_type": "stream",
     "text": [
      " 48%|████▊     | 30/63 [09:00<08:40, 15.77s/it]"
     ]
    },
    {
     "name": "stdout",
     "output_type": "stream",
     "text": [
      "null\n",
      "Upload the whole collection to endpoint dedup-sites: 14.250 seconds\n"
     ]
    },
    {
     "name": "stderr",
     "output_type": "stream",
     "text": [
      " 49%|████▉     | 31/63 [09:14<08:03, 15.12s/it]"
     ]
    },
    {
     "name": "stdout",
     "output_type": "stream",
     "text": [
      "null\n",
      "Upload the whole collection to endpoint dedup-sites: 13.599 seconds\n"
     ]
    },
    {
     "name": "stderr",
     "output_type": "stream",
     "text": [
      " 51%|█████     | 32/63 [09:27<07:34, 14.66s/it]"
     ]
    },
    {
     "name": "stdout",
     "output_type": "stream",
     "text": [
      "null\n",
      "Upload the whole collection to endpoint dedup-sites: 13.579 seconds\n"
     ]
    },
    {
     "name": "stderr",
     "output_type": "stream",
     "text": [
      " 52%|█████▏    | 33/63 [09:40<06:59, 13.98s/it]"
     ]
    },
    {
     "name": "stdout",
     "output_type": "stream",
     "text": [
      "null\n",
      "Upload the whole collection to endpoint dedup-sites: 12.400 seconds\n"
     ]
    },
    {
     "name": "stderr",
     "output_type": "stream",
     "text": [
      " 54%|█████▍    | 34/63 [09:52<06:31, 13.51s/it]"
     ]
    },
    {
     "name": "stdout",
     "output_type": "stream",
     "text": [
      "null\n",
      "Upload the whole collection to endpoint dedup-sites: 12.405 seconds\n"
     ]
    },
    {
     "name": "stderr",
     "output_type": "stream",
     "text": [
      " 56%|█████▌    | 35/63 [10:05<06:08, 13.14s/it]"
     ]
    },
    {
     "name": "stdout",
     "output_type": "stream",
     "text": [
      "null\n",
      "Upload the whole collection to endpoint dedup-sites: 12.280 seconds\n"
     ]
    },
    {
     "name": "stderr",
     "output_type": "stream",
     "text": [
      " 57%|█████▋    | 36/63 [10:17<05:48, 12.92s/it]"
     ]
    },
    {
     "name": "stdout",
     "output_type": "stream",
     "text": [
      "null\n",
      "Upload the whole collection to endpoint dedup-sites: 12.386 seconds\n"
     ]
    },
    {
     "name": "stderr",
     "output_type": "stream",
     "text": [
      " 59%|█████▊    | 37/63 [10:29<05:33, 12.82s/it]"
     ]
    },
    {
     "name": "stdout",
     "output_type": "stream",
     "text": [
      "null\n",
      "Upload the whole collection to endpoint dedup-sites: 12.591 seconds\n"
     ]
    },
    {
     "name": "stderr",
     "output_type": "stream",
     "text": [
      " 60%|██████    | 38/63 [10:42<05:14, 12.60s/it]"
     ]
    },
    {
     "name": "stdout",
     "output_type": "stream",
     "text": [
      "null\n",
      "Upload the whole collection to endpoint dedup-sites: 12.082 seconds\n"
     ]
    },
    {
     "name": "stderr",
     "output_type": "stream",
     "text": [
      " 62%|██████▏   | 39/63 [10:54<04:59, 12.49s/it]"
     ]
    },
    {
     "name": "stdout",
     "output_type": "stream",
     "text": [
      "null\n",
      "Upload the whole collection to endpoint dedup-sites: 12.238 seconds\n"
     ]
    },
    {
     "name": "stderr",
     "output_type": "stream",
     "text": [
      " 63%|██████▎   | 40/63 [11:07<04:49, 12.57s/it]"
     ]
    },
    {
     "name": "stdout",
     "output_type": "stream",
     "text": [
      "null\n",
      "Upload the whole collection to endpoint dedup-sites: 12.741 seconds\n"
     ]
    },
    {
     "name": "stderr",
     "output_type": "stream",
     "text": [
      " 65%|██████▌   | 41/63 [11:22<04:53, 13.36s/it]"
     ]
    },
    {
     "name": "stdout",
     "output_type": "stream",
     "text": [
      "null\n",
      "Upload the whole collection to endpoint dedup-sites: 15.209 seconds\n"
     ]
    },
    {
     "name": "stderr",
     "output_type": "stream",
     "text": [
      " 67%|██████▋   | 42/63 [11:36<04:47, 13.69s/it]"
     ]
    },
    {
     "name": "stdout",
     "output_type": "stream",
     "text": [
      "null\n",
      "Upload the whole collection to endpoint dedup-sites: 14.470 seconds\n"
     ]
    },
    {
     "name": "stderr",
     "output_type": "stream",
     "text": [
      " 68%|██████▊   | 43/63 [11:51<04:40, 14.04s/it]"
     ]
    },
    {
     "name": "stdout",
     "output_type": "stream",
     "text": [
      "null\n",
      "Upload the whole collection to endpoint dedup-sites: 14.853 seconds\n"
     ]
    },
    {
     "name": "stderr",
     "output_type": "stream",
     "text": [
      " 70%|██████▉   | 44/63 [12:02<04:08, 13.06s/it]"
     ]
    },
    {
     "name": "stdout",
     "output_type": "stream",
     "text": [
      "null\n",
      "Upload the whole collection to endpoint dedup-sites: 10.754 seconds\n"
     ]
    },
    {
     "name": "stderr",
     "output_type": "stream",
     "text": [
      " 71%|███████▏  | 45/63 [12:10<03:29, 11.66s/it]"
     ]
    },
    {
     "name": "stdout",
     "output_type": "stream",
     "text": [
      "null\n",
      "Upload the whole collection to endpoint dedup-sites: 8.394 seconds\n"
     ]
    },
    {
     "name": "stderr",
     "output_type": "stream",
     "text": [
      " 73%|███████▎  | 46/63 [12:19<03:02, 10.74s/it]"
     ]
    },
    {
     "name": "stdout",
     "output_type": "stream",
     "text": [
      "null\n",
      "Upload the whole collection to endpoint dedup-sites: 8.587 seconds\n"
     ]
    },
    {
     "name": "stderr",
     "output_type": "stream",
     "text": [
      " 75%|███████▍  | 47/63 [12:27<02:40, 10.00s/it]"
     ]
    },
    {
     "name": "stdout",
     "output_type": "stream",
     "text": [
      "null\n",
      "Upload the whole collection to endpoint dedup-sites: 8.284 seconds\n"
     ]
    },
    {
     "name": "stderr",
     "output_type": "stream",
     "text": [
      " 76%|███████▌  | 48/63 [12:35<02:19,  9.30s/it]"
     ]
    },
    {
     "name": "stdout",
     "output_type": "stream",
     "text": [
      "null\n",
      "Upload the whole collection to endpoint dedup-sites: 7.649 seconds\n"
     ]
    },
    {
     "name": "stderr",
     "output_type": "stream",
     "text": [
      " 78%|███████▊  | 49/63 [12:43<02:07,  9.11s/it]"
     ]
    },
    {
     "name": "stdout",
     "output_type": "stream",
     "text": [
      "null\n",
      "Upload the whole collection to endpoint dedup-sites: 8.659 seconds\n"
     ]
    },
    {
     "name": "stderr",
     "output_type": "stream",
     "text": [
      " 79%|███████▉  | 50/63 [12:51<01:52,  8.62s/it]"
     ]
    },
    {
     "name": "stdout",
     "output_type": "stream",
     "text": [
      "null\n",
      "Upload the whole collection to endpoint dedup-sites: 7.493 seconds\n"
     ]
    },
    {
     "name": "stderr",
     "output_type": "stream",
     "text": [
      " 81%|████████  | 51/63 [12:59<01:40,  8.39s/it]"
     ]
    },
    {
     "name": "stdout",
     "output_type": "stream",
     "text": [
      "null\n",
      "Upload the whole collection to endpoint dedup-sites: 7.844 seconds\n"
     ]
    },
    {
     "name": "stderr",
     "output_type": "stream",
     "text": [
      " 83%|████████▎ | 52/63 [13:07<01:32,  8.39s/it]"
     ]
    },
    {
     "name": "stdout",
     "output_type": "stream",
     "text": [
      "null\n",
      "Upload the whole collection to endpoint dedup-sites: 8.385 seconds\n"
     ]
    },
    {
     "name": "stderr",
     "output_type": "stream",
     "text": [
      " 84%|████████▍ | 53/63 [13:16<01:25,  8.58s/it]"
     ]
    },
    {
     "name": "stdout",
     "output_type": "stream",
     "text": [
      "null\n",
      "Upload the whole collection to endpoint dedup-sites: 9.016 seconds\n"
     ]
    },
    {
     "name": "stderr",
     "output_type": "stream",
     "text": [
      " 86%|████████▌ | 54/63 [13:25<01:18,  8.70s/it]"
     ]
    },
    {
     "name": "stdout",
     "output_type": "stream",
     "text": [
      "null\n",
      "Upload the whole collection to endpoint dedup-sites: 8.974 seconds\n"
     ]
    },
    {
     "name": "stderr",
     "output_type": "stream",
     "text": [
      " 87%|████████▋ | 55/63 [13:35<01:11,  8.99s/it]"
     ]
    },
    {
     "name": "stdout",
     "output_type": "stream",
     "text": [
      "null\n",
      "Upload the whole collection to endpoint dedup-sites: 9.655 seconds\n"
     ]
    },
    {
     "name": "stderr",
     "output_type": "stream",
     "text": [
      " 89%|████████▉ | 56/63 [13:45<01:04,  9.21s/it]"
     ]
    },
    {
     "name": "stdout",
     "output_type": "stream",
     "text": [
      "null\n",
      "Upload the whole collection to endpoint dedup-sites: 9.720 seconds\n"
     ]
    },
    {
     "name": "stderr",
     "output_type": "stream",
     "text": [
      " 90%|█████████ | 57/63 [13:52<00:52,  8.82s/it]"
     ]
    },
    {
     "name": "stdout",
     "output_type": "stream",
     "text": [
      "null\n",
      "Upload the whole collection to endpoint dedup-sites: 7.910 seconds\n"
     ]
    },
    {
     "name": "stderr",
     "output_type": "stream",
     "text": [
      " 92%|█████████▏| 58/63 [14:01<00:43,  8.65s/it]"
     ]
    },
    {
     "name": "stdout",
     "output_type": "stream",
     "text": [
      "null\n",
      "Upload the whole collection to endpoint dedup-sites: 8.243 seconds\n"
     ]
    },
    {
     "name": "stderr",
     "output_type": "stream",
     "text": [
      " 94%|█████████▎| 59/63 [14:08<00:33,  8.27s/it]"
     ]
    },
    {
     "name": "stdout",
     "output_type": "stream",
     "text": [
      "null\n",
      "Upload the whole collection to endpoint dedup-sites: 7.392 seconds\n"
     ]
    },
    {
     "name": "stderr",
     "output_type": "stream",
     "text": [
      " 95%|█████████▌| 60/63 [14:16<00:24,  8.01s/it]"
     ]
    },
    {
     "name": "stdout",
     "output_type": "stream",
     "text": [
      "null\n",
      "Upload the whole collection to endpoint dedup-sites: 7.401 seconds\n"
     ]
    },
    {
     "name": "stderr",
     "output_type": "stream",
     "text": [
      " 97%|█████████▋| 61/63 [14:23<00:15,  7.97s/it]"
     ]
    },
    {
     "name": "stdout",
     "output_type": "stream",
     "text": [
      "null\n",
      "Upload the whole collection to endpoint dedup-sites: 7.855 seconds\n"
     ]
    },
    {
     "name": "stderr",
     "output_type": "stream",
     "text": [
      " 98%|█████████▊| 62/63 [14:32<00:08,  8.10s/it]"
     ]
    },
    {
     "name": "stdout",
     "output_type": "stream",
     "text": [
      "null\n",
      "Upload the whole collection to endpoint dedup-sites: 8.408 seconds\n"
     ]
    },
    {
     "name": "stderr",
     "output_type": "stream",
     "text": [
      "100%|██████████| 63/63 [14:35<00:00, 13.90s/it]"
     ]
    },
    {
     "name": "stdout",
     "output_type": "stream",
     "text": [
      "null\n",
      "Upload the whole collection to endpoint dedup-sites: 3.693 seconds\n"
     ]
    },
    {
     "name": "stderr",
     "output_type": "stream",
     "text": [
      "\n"
     ]
    }
   ],
   "source": [
    "batch_size = 10000\n",
    "for i in tqdm(list(range(0, len(inputs), batch_size))):\n",
    "    CDRHelper.upload_collection(CDRHelper.DedupSites, inputs[i : i + batch_size])"
   ]
  },
  {
   "cell_type": "code",
   "execution_count": 4,
   "metadata": {},
   "outputs": [
    {
     "name": "stderr",
     "output_type": "stream",
     "text": [
      "\u001b[32m2024-07-15 23:05:29.243\u001b[0m | \u001b[1mINFO    \u001b[0m | \u001b[36mminmodkg.integrations.cdr\u001b[0m:\u001b[36mget_mineral_site_data_by_commodity\u001b[0m:\u001b[36m116\u001b[0m - \u001b[1mHaving total of 4105 sites\u001b[0m\n",
      "retrieving additional information of mineral sites: 100%|██████████| 42/42 [00:02<00:00, 17.15it/s]\n",
      "reformat mineral sites: 100%|██████████| 4105/4105 [00:00<00:00, 50289.21it/s]\n"
     ]
    }
   ],
   "source": [
    "sites = get_mineral_site_data_by_commodity(commodity)"
   ]
  },
  {
   "cell_type": "code",
   "execution_count": 5,
   "metadata": {},
   "outputs": [
    {
     "name": "stderr",
     "output_type": "stream",
     "text": [
      "creating mineral sites: 100%|██████████| 4105/4105 [31:32<00:00,  2.17it/s]  \n"
     ]
    }
   ],
   "source": [
    "create_mineral_site(sites)"
   ]
  },
  {
   "cell_type": "code",
   "execution_count": 16,
   "metadata": {},
   "outputs": [],
   "source": [
    "r = httpx.post(\n",
    "    f\"{CDR_API}/minerals/site\",\n",
    "    json=orjson.loads(sites[0].model_dump_json(exclude_none=True)),\n",
    "    headers=cdr_headers,\n",
    ")"
   ]
  },
  {
   "cell_type": "code",
   "execution_count": 26,
   "metadata": {},
   "outputs": [],
   "source": [
    "r = httpx.delete(\n",
    "    f\"{CDR_API}/minerals/site/{sites[0].id}\",\n",
    "    headers=cdr_headers,\n",
    ")"
   ]
  },
  {
   "cell_type": "code",
   "execution_count": 29,
   "metadata": {},
   "outputs": [
    {
     "data": {
      "text/plain": [
       "404"
      ]
     },
     "execution_count": 29,
     "metadata": {},
     "output_type": "execute_result"
    }
   ],
   "source": [
    "r.status_code"
   ]
  },
  {
   "cell_type": "code",
   "execution_count": 23,
   "metadata": {},
   "outputs": [
    {
     "data": {
      "text/plain": [
       "'site__10-1016-j-oregeorev-2016-08-010__23__area-55'"
      ]
     },
     "execution_count": 23,
     "metadata": {},
     "output_type": "execute_result"
    }
   ],
   "source": [
    "sites[0].id"
   ]
  },
  {
   "cell_type": "code",
   "execution_count": 25,
   "metadata": {},
   "outputs": [
    {
     "data": {
      "text/plain": [
       "'{\"id\":\"site__10-1016-j-oregeorev-2016-08-010__23__area-55\",\"source_id\":\"https://doi.org/10.1016/j.oregeorev.2016.08.010\",\"record_id\":\"https://minmod.isi.edu/resource/site__10-1016-j-oregeorev-2016-08-010__23__area-55\",\"name\":\"Area 55\",\"site_rank\":\"\",\"site_type\":\"\",\"country\":\"Australia\",\"province\":[],\"mineral_inventory\":[{\"contained_metal\":0.017079999999999998,\"commodity\":\"nickel\",\"commodity_observed_name\":\"\",\"ore_unit\":\"\",\"ore_value\":12.2,\"grade_unit\":\"\",\"grade_value\":0.13999999999999999,\"cutoff_grade_unit\":\"\",\"material_form_unit\":\"\",\"categories\":[],\"documents\":[],\"records\":[],\"date\":\"\",\"zone\":\"\"}],\"deposit_type_candidate\":[],\"validated\":false,\"system\":\"minmodkg\",\"system_version\":\"0.1.0\"}'"
      ]
     },
     "execution_count": 25,
     "metadata": {},
     "output_type": "execute_result"
    }
   ],
   "source": [
    "sites[0].model_dump_json(exclude_none=True)"
   ]
  },
  {
   "cell_type": "code",
   "execution_count": 3,
   "metadata": {},
   "outputs": [
    {
     "data": {
      "text/plain": [
       "<Response [200 OK]>"
      ]
     },
     "execution_count": 3,
     "metadata": {},
     "output_type": "execute_result"
    }
   ],
   "source": [
    "commodity = \"nickel\"\n",
    "deposity_type_resp = httpx.get(\n",
    "    f\"{MINMOD_API}/mineral_site_deposit_types/{commodity}\",\n",
    "    verify=False,\n",
    "    timeout=None,\n",
    ")\n",
    "deposity_type_resp.raise_for_status()\n",
    "\n",
    "grade_tonnage_resp = httpx.get(\n",
    "    f\"{MINMOD_API}/mineral_site_grade_and_tonnage/{commodity}\",\n",
    "    verify=False,\n",
    "    timeout=None,\n",
    ")\n",
    "grade_tonnage_resp.raise_for_status()"
   ]
  },
  {
   "cell_type": "code",
   "execution_count": 4,
   "metadata": {},
   "outputs": [],
   "source": [
    "site_ids = list(\n",
    "    {record[\"ms\"][len(MNR_NS) :] for record in deposity_type_resp.json()}.union(\n",
    "        (record[\"ms\"][len(MNR_NS) :] for record in grade_tonnage_resp.json())\n",
    "    )\n",
    ")"
   ]
  },
  {
   "cell_type": "code",
   "execution_count": 5,
   "metadata": {},
   "outputs": [
    {
     "name": "stderr",
     "output_type": "stream",
     "text": [
      "\u001b[32m2024-07-15 22:27:16.499\u001b[0m | \u001b[1mINFO    \u001b[0m | \u001b[36m__main__\u001b[0m:\u001b[36m<module>\u001b[0m:\u001b[36m1\u001b[0m - \u001b[1mHaving total of 4105 sites\u001b[0m\n"
     ]
    }
   ],
   "source": [
    "logger.info(\"Having total of {} sites\", len(site_ids))"
   ]
  },
  {
   "cell_type": "code",
   "execution_count": 10,
   "metadata": {},
   "outputs": [
    {
     "name": "stderr",
     "output_type": "stream",
     "text": [
      "retrieving additional information of mineral sites: 100%|██████████| 42/42 [00:02<00:00, 16.81it/s]\n"
     ]
    }
   ],
   "source": [
    "id2siteinfo = {}\n",
    "for batch_ids in tqdm(\n",
    "    batch(100, site_ids), desc=\"retrieving additional information of mineral sites\"\n",
    "):\n",
    "    tmp = get_mineral_site_data(batch_ids)\n",
    "    assert len(tmp) == len(batch_ids), (len(tmp), len(batch_ids))\n",
    "    id2siteinfo.update(tmp)"
   ]
  },
  {
   "cell_type": "code",
   "execution_count": 12,
   "metadata": {},
   "outputs": [
    {
     "data": {
      "text/plain": [
       "{'ms': 'https://minmod.isi.edu/resource/site__api-cdr-land-v1-docs-documents__02b1591cfad6809d1d9ea67ea04b34d2df8b16d5f34e4bba701a7924bab9c3b48d',\n",
       " 'ms_name': 'NI 43-101 Technical Report for the Läntinen Koillismaa project in Finland dated May, 2021.pdf',\n",
       " 'country': 'Finland',\n",
       " 'state_or_province': 'Central Finland',\n",
       " 'loc_crs': 'EPSG:4326',\n",
       " 'loc_wkt': 'POINT(28.128333 65.905722)',\n",
       " 'doc_url': 'https://api.cdr.land/v1/docs/documents/02b1591cfad6809d1d9ea67ea04b34d2df8b16d5f34e4bba701a7924bab9c3b48d',\n",
       " 'tot_contained_metal': 7.6917e-05,\n",
       " 'total_tonnage': 130.9,\n",
       " 'total_grade': 5.876012223071046e-05}"
      ]
     },
     "execution_count": 12,
     "metadata": {},
     "output_type": "execute_result"
    }
   ],
   "source": [
    "grade_tonnage_resp.json()[0]"
   ]
  },
  {
   "cell_type": "code",
   "execution_count": 37,
   "metadata": {},
   "outputs": [
    {
     "data": {
      "text/plain": [
       "4105"
      ]
     },
     "execution_count": 37,
     "metadata": {},
     "output_type": "execute_result"
    }
   ],
   "source": [
    "len(site_ids)"
   ]
  },
  {
   "cell_type": "code",
   "execution_count": 18,
   "metadata": {},
   "outputs": [],
   "source": [
    "r = httpx.get(\n",
    "    \"https://minmod.isi.edu/api/v1/mineral_site_deposit_types/nickel\", verify=False\n",
    ")"
   ]
  },
  {
   "cell_type": "code",
   "execution_count": 27,
   "metadata": {},
   "outputs": [],
   "source": [
    "r = httpx.get(\n",
    "    \"https://minmod.isi.edu/api/v1/mineral_site_deposit_types/zinc\",\n",
    "    verify=False,\n",
    "    timeout=None,\n",
    ")"
   ]
  },
  {
   "cell_type": "code",
   "execution_count": 26,
   "metadata": {},
   "outputs": [
    {
     "ename": "NameError",
     "evalue": "name 'grade_tonnage_resp' is not defined",
     "output_type": "error",
     "traceback": [
      "\u001b[0;31m---------------------------------------------------------------------------\u001b[0m",
      "\u001b[0;31mNameError\u001b[0m                                 Traceback (most recent call last)",
      "Cell \u001b[0;32mIn[26], line 1\u001b[0m\n\u001b[0;32m----> 1\u001b[0m \u001b[43mgrade_tonnage_resp\u001b[49m\n",
      "\u001b[0;31mNameError\u001b[0m: name 'grade_tonnage_resp' is not defined"
     ]
    }
   ],
   "source": [
    "grade_tonnage_resp"
   ]
  },
  {
   "cell_type": "code",
   "execution_count": 25,
   "metadata": {},
   "outputs": [
    {
     "data": {
      "text/plain": [
       "28658"
      ]
     },
     "execution_count": 25,
     "metadata": {},
     "output_type": "execute_result"
    }
   ],
   "source": [
    "len(r.json())"
   ]
  },
  {
   "cell_type": "code",
   "execution_count": 7,
   "metadata": {},
   "outputs": [],
   "source": [
    "r = httpx.get(\n",
    "    \"https://api.cdr.land/v1/minerals/sites?fields=\",\n",
    "    headers=headers,\n",
    "    follow_redirects=True,\n",
    ")"
   ]
  },
  {
   "cell_type": "code",
   "execution_count": 9,
   "metadata": {},
   "outputs": [],
   "source": [
    "dat = r.json()"
   ]
  },
  {
   "cell_type": "code",
   "execution_count": 15,
   "metadata": {},
   "outputs": [
    {
     "data": {
      "text/plain": [
       "{'system_version': '0.1.0',\n",
       " 'name': 'Alma',\n",
       " 'source_id': 'https://mrdata.usgs.gov/mrds',\n",
       " 'site_type': 'Past Producer',\n",
       " 'id': 'site__mrdata-usgs-gov-mrds__10036253',\n",
       " 'system': 'bulkingest',\n",
       " 'validated': False,\n",
       " 'record_id': '10036253',\n",
       " 'site_rank': 'B',\n",
       " 'country': [{'name': 'United States',\n",
       "   'id': '75fd64387e1749b18630163215b6f22d',\n",
       "   'mineral_site_id': 'site__mrdata-usgs-gov-mrds__10036253'}],\n",
       " 'mineral_inventory': [{'ore_value': None,\n",
       "   'material_form_conversion': None,\n",
       "   'mineral_site_id': 'site__mrdata-usgs-gov-mrds__10036253',\n",
       "   'ore_unit': '',\n",
       "   'material_form_observed_name': '',\n",
       "   'cutoff_grade': None,\n",
       "   'id': '01a9903730d1483dae258b78f07a3d64',\n",
       "   'contained_metal': None,\n",
       "   'cutoff_unit': '',\n",
       "   'date': '',\n",
       "   'grade_value': None,\n",
       "   'grade_unit': '',\n",
       "   'zone': '',\n",
       "   'commodity': 'Sulfur',\n",
       "   'material_form': None,\n",
       "   'commodity_observed_name': 'Sulfur',\n",
       "   'material_form_unit': '',\n",
       "   'documents': [],\n",
       "   'records': [{'mineral_inventory_id': '01a9903730d1483dae258b78f07a3d64',\n",
       "     'id': '451453f6ac1e4e9aa9b643f414534510',\n",
       "     'uri': 'https://mrdata.usgs.gov/mrds',\n",
       "     'source': '',\n",
       "     'record_id': '10036253'}],\n",
       "   'confidence': None,\n",
       "   'categories': []},\n",
       "  {'ore_value': None,\n",
       "   'material_form_conversion': None,\n",
       "   'mineral_site_id': 'site__mrdata-usgs-gov-mrds__10036253',\n",
       "   'ore_unit': '',\n",
       "   'material_form_observed_name': '',\n",
       "   'cutoff_grade': None,\n",
       "   'id': 'e8fc451a67df49c89d488e570f739486',\n",
       "   'contained_metal': None,\n",
       "   'cutoff_unit': '',\n",
       "   'date': '',\n",
       "   'grade_value': None,\n",
       "   'grade_unit': '',\n",
       "   'zone': '',\n",
       "   'commodity': 'Copper',\n",
       "   'material_form': None,\n",
       "   'commodity_observed_name': 'Copper',\n",
       "   'material_form_unit': '',\n",
       "   'documents': [],\n",
       "   'records': [{'mineral_inventory_id': 'e8fc451a67df49c89d488e570f739486',\n",
       "     'id': 'b840a549bc874ac687ccab0432258aef',\n",
       "     'uri': 'https://mrdata.usgs.gov/mrds',\n",
       "     'source': '',\n",
       "     'record_id': '10036253'}],\n",
       "   'confidence': None,\n",
       "   'categories': []},\n",
       "  {'ore_value': None,\n",
       "   'material_form_conversion': None,\n",
       "   'mineral_site_id': 'site__mrdata-usgs-gov-mrds__10036253',\n",
       "   'ore_unit': '',\n",
       "   'material_form_observed_name': '',\n",
       "   'cutoff_grade': None,\n",
       "   'id': '5ade60e7ef0244b8a628d2cdfee21fe8',\n",
       "   'contained_metal': None,\n",
       "   'cutoff_unit': '',\n",
       "   'date': '',\n",
       "   'grade_value': None,\n",
       "   'grade_unit': '',\n",
       "   'zone': '',\n",
       "   'commodity': 'Sulfur',\n",
       "   'material_form': None,\n",
       "   'commodity_observed_name': 'Sulfur',\n",
       "   'material_form_unit': '',\n",
       "   'documents': [],\n",
       "   'records': [{'mineral_inventory_id': '5ade60e7ef0244b8a628d2cdfee21fe8',\n",
       "     'id': '5e374be7c1d248448ecbedef70d317d3',\n",
       "     'uri': 'https://mrdata.usgs.gov/mrds',\n",
       "     'source': '',\n",
       "     'record_id': '10036253'}],\n",
       "   'confidence': None,\n",
       "   'categories': []},\n",
       "  {'ore_value': None,\n",
       "   'material_form_conversion': None,\n",
       "   'mineral_site_id': 'site__mrdata-usgs-gov-mrds__10036253',\n",
       "   'ore_unit': '',\n",
       "   'material_form_observed_name': '',\n",
       "   'cutoff_grade': None,\n",
       "   'id': '43d330a2fb8f4cea9626d7fe1184c1ee',\n",
       "   'contained_metal': None,\n",
       "   'cutoff_unit': '',\n",
       "   'date': '',\n",
       "   'grade_value': None,\n",
       "   'grade_unit': '',\n",
       "   'zone': '',\n",
       "   'commodity': 'Copper',\n",
       "   'material_form': None,\n",
       "   'commodity_observed_name': 'Copper',\n",
       "   'material_form_unit': '',\n",
       "   'documents': [],\n",
       "   'records': [{'mineral_inventory_id': '43d330a2fb8f4cea9626d7fe1184c1ee',\n",
       "     'id': 'acd181b825344b9cb3ea4754fafc2601',\n",
       "     'uri': 'https://mrdata.usgs.gov/mrds',\n",
       "     'source': '',\n",
       "     'record_id': '10036253'}],\n",
       "   'confidence': None,\n",
       "   'categories': []}],\n",
       " 'province': [{'mineral_site_id': 'site__mrdata-usgs-gov-mrds__10036253',\n",
       "   'name': 'California',\n",
       "   'id': '4e373a59158341929bf1e834d3cc0767'}],\n",
       " 'deposit_type_candidate': [{'deposit_type_id': 'Q412',\n",
       "   'confidence': 1.0,\n",
       "   'mineral_site_id': 'site__mrdata-usgs-gov-mrds__10036253',\n",
       "   'id': '8465753b376b4be6b137b96787a32447',\n",
       "   'observed_name': 'Bimodal felsic VMS',\n",
       "   'source': 'algorithm predictions, SRI crosswalk agent v0',\n",
       "   'deposit_type': {'environment': 'Volcanic basin hydrothermal',\n",
       "    'id': 'Q412',\n",
       "    'name': 'Bimodal felsic VMS',\n",
       "    'group': 'Volcanogenic massive sulfide (VMS)'}}],\n",
       " 'same_as': [{'site_b_id': 'site__mrdata-usgs-gov-mrds__10036253',\n",
       "   'site_a_id': 'site__mrdata-usgs-gov-mrds__10027996',\n",
       "   'id': '8a5636ed66df4a06a07b0a6390e61abb'}],\n",
       " 'location': {'mineral_site_id': 'site__mrdata-usgs-gov-mrds__10036253',\n",
       "  'crs': 'EPSG:4326',\n",
       "  'geom': 'POINT (-122.17215 37.80379)',\n",
       "  'id': 'ea983c8bdf224332bb62818e51d4f462'}}"
      ]
     },
     "execution_count": 15,
     "metadata": {},
     "output_type": "execute_result"
    }
   ],
   "source": [
    "dat[0]"
   ]
  },
  {
   "cell_type": "code",
   "execution_count": 13,
   "metadata": {},
   "outputs": [
    {
     "data": {
      "text/plain": [
       "10"
      ]
     },
     "execution_count": 13,
     "metadata": {},
     "output_type": "execute_result"
    }
   ],
   "source": [
    "len(dat)"
   ]
  }
 ],
 "metadata": {
  "kernelspec": {
   "display_name": ".venv",
   "language": "python",
   "name": "python3"
  },
  "language_info": {
   "codemirror_mode": {
    "name": "ipython",
    "version": 3
   },
   "file_extension": ".py",
   "mimetype": "text/x-python",
   "name": "python",
   "nbconvert_exporter": "python",
   "pygments_lexer": "ipython3",
   "version": "3.12.4"
  }
 },
 "nbformat": 4,
 "nbformat_minor": 2
}
