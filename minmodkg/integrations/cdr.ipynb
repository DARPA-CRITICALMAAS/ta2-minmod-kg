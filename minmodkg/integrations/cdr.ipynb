{
 "cells": [
  {
   "cell_type": "code",
   "execution_count": 1,
   "metadata": {},
   "outputs": [],
   "source": [
    "import os, deepreload, warnings\n",
    "\n",
    "os.environ[\"CDR_AUTH_TOKEN\"] = (\n",
    "    \"\"\n",
    ")\n",
    "\n",
    "warnings.filterwarnings(\"ignore\")"
   ]
  },
  {
   "cell_type": "code",
   "execution_count": 2,
   "metadata": {},
   "outputs": [],
   "source": [
    "from minmodkg.integrations.cdr import *\n",
    "\n",
    "deepreload.reload(\"minmodkg.integrations.cdr\")\n",
    "from minmodkg.integrations.cdr import *"
   ]
  },
  {
   "cell_type": "code",
   "execution_count": 3,
   "metadata": {},
   "outputs": [],
   "source": [
    "commodity = \"nickel\""
   ]
  },
  {
   "cell_type": "code",
   "execution_count": 4,
   "metadata": {},
   "outputs": [
    {
     "name": "stderr",
     "output_type": "stream",
     "text": [
      "\u001b[32m2024-07-15 23:05:29.243\u001b[0m | \u001b[1mINFO    \u001b[0m | \u001b[36mminmodkg.integrations.cdr\u001b[0m:\u001b[36mget_mineral_site_data_by_commodity\u001b[0m:\u001b[36m116\u001b[0m - \u001b[1mHaving total of 4105 sites\u001b[0m\n",
      "retrieving additional information of mineral sites: 100%|██████████| 42/42 [00:02<00:00, 17.15it/s]\n",
      "reformat mineral sites: 100%|██████████| 4105/4105 [00:00<00:00, 50289.21it/s]\n"
     ]
    }
   ],
   "source": [
    "sites = get_mineral_site_data_by_commodity(commodity)"
   ]
  },
  {
   "cell_type": "code",
   "execution_count": 5,
   "metadata": {},
   "outputs": [
    {
     "name": "stderr",
     "output_type": "stream",
     "text": [
      "creating mineral sites: 100%|██████████| 4105/4105 [31:32<00:00,  2.17it/s]  \n"
     ]
    }
   ],
   "source": [
    "create_mineral_site(sites)"
   ]
  },
  {
   "cell_type": "code",
   "execution_count": 16,
   "metadata": {},
   "outputs": [],
   "source": [
    "r = httpx.post(\n",
    "    f\"{CDR_API}/minerals/site\",\n",
    "    json=orjson.loads(sites[0].model_dump_json(exclude_none=True)),\n",
    "    headers=cdr_headers,\n",
    ")"
   ]
  },
  {
   "cell_type": "code",
   "execution_count": 26,
   "metadata": {},
   "outputs": [],
   "source": [
    "r = httpx.delete(\n",
    "    f\"{CDR_API}/minerals/site/{sites[0].id}\",\n",
    "    headers=cdr_headers,\n",
    ")"
   ]
  },
  {
   "cell_type": "code",
   "execution_count": 29,
   "metadata": {},
   "outputs": [
    {
     "data": {
      "text/plain": [
       "404"
      ]
     },
     "execution_count": 29,
     "metadata": {},
     "output_type": "execute_result"
    }
   ],
   "source": [
    "r.status_code"
   ]
  },
  {
   "cell_type": "code",
   "execution_count": 23,
   "metadata": {},
   "outputs": [
    {
     "data": {
      "text/plain": [
       "'site__10-1016-j-oregeorev-2016-08-010__23__area-55'"
      ]
     },
     "execution_count": 23,
     "metadata": {},
     "output_type": "execute_result"
    }
   ],
   "source": [
    "sites[0].id"
   ]
  },
  {
   "cell_type": "code",
   "execution_count": 25,
   "metadata": {},
   "outputs": [
    {
     "data": {
      "text/plain": [
       "'{\"id\":\"site__10-1016-j-oregeorev-2016-08-010__23__area-55\",\"source_id\":\"https://doi.org/10.1016/j.oregeorev.2016.08.010\",\"record_id\":\"https://minmod.isi.edu/resource/site__10-1016-j-oregeorev-2016-08-010__23__area-55\",\"name\":\"Area 55\",\"site_rank\":\"\",\"site_type\":\"\",\"country\":\"Australia\",\"province\":[],\"mineral_inventory\":[{\"contained_metal\":0.017079999999999998,\"commodity\":\"nickel\",\"commodity_observed_name\":\"\",\"ore_unit\":\"\",\"ore_value\":12.2,\"grade_unit\":\"\",\"grade_value\":0.13999999999999999,\"cutoff_grade_unit\":\"\",\"material_form_unit\":\"\",\"categories\":[],\"documents\":[],\"records\":[],\"date\":\"\",\"zone\":\"\"}],\"deposit_type_candidate\":[],\"validated\":false,\"system\":\"minmodkg\",\"system_version\":\"0.1.0\"}'"
      ]
     },
     "execution_count": 25,
     "metadata": {},
     "output_type": "execute_result"
    }
   ],
   "source": [
    "sites[0].model_dump_json(exclude_none=True)"
   ]
  },
  {
   "cell_type": "code",
   "execution_count": 3,
   "metadata": {},
   "outputs": [
    {
     "data": {
      "text/plain": [
       "<Response [200 OK]>"
      ]
     },
     "execution_count": 3,
     "metadata": {},
     "output_type": "execute_result"
    }
   ],
   "source": [
    "commodity = \"nickel\"\n",
    "deposity_type_resp = httpx.get(\n",
    "    f\"{MINMOD_API}/mineral_site_deposit_types/{commodity}\",\n",
    "    verify=False,\n",
    "    timeout=None,\n",
    ")\n",
    "deposity_type_resp.raise_for_status()\n",
    "\n",
    "grade_tonnage_resp = httpx.get(\n",
    "    f\"{MINMOD_API}/mineral_site_grade_and_tonnage/{commodity}\",\n",
    "    verify=False,\n",
    "    timeout=None,\n",
    ")\n",
    "grade_tonnage_resp.raise_for_status()"
   ]
  },
  {
   "cell_type": "code",
   "execution_count": 4,
   "metadata": {},
   "outputs": [],
   "source": [
    "site_ids = list(\n",
    "    {record[\"ms\"][len(MNR_NS) :] for record in deposity_type_resp.json()}.union(\n",
    "        (record[\"ms\"][len(MNR_NS) :] for record in grade_tonnage_resp.json())\n",
    "    )\n",
    ")"
   ]
  },
  {
   "cell_type": "code",
   "execution_count": 5,
   "metadata": {},
   "outputs": [
    {
     "name": "stderr",
     "output_type": "stream",
     "text": [
      "\u001b[32m2024-07-15 22:27:16.499\u001b[0m | \u001b[1mINFO    \u001b[0m | \u001b[36m__main__\u001b[0m:\u001b[36m<module>\u001b[0m:\u001b[36m1\u001b[0m - \u001b[1mHaving total of 4105 sites\u001b[0m\n"
     ]
    }
   ],
   "source": [
    "logger.info(\"Having total of {} sites\", len(site_ids))"
   ]
  },
  {
   "cell_type": "code",
   "execution_count": 10,
   "metadata": {},
   "outputs": [
    {
     "name": "stderr",
     "output_type": "stream",
     "text": [
      "retrieving additional information of mineral sites: 100%|██████████| 42/42 [00:02<00:00, 16.81it/s]\n"
     ]
    }
   ],
   "source": [
    "id2siteinfo = {}\n",
    "for batch_ids in tqdm(\n",
    "    batch(100, site_ids), desc=\"retrieving additional information of mineral sites\"\n",
    "):\n",
    "    tmp = get_mineral_site_data(batch_ids)\n",
    "    assert len(tmp) == len(batch_ids), (len(tmp), len(batch_ids))\n",
    "    id2siteinfo.update(tmp)"
   ]
  },
  {
   "cell_type": "code",
   "execution_count": 12,
   "metadata": {},
   "outputs": [
    {
     "data": {
      "text/plain": [
       "{'ms': 'https://minmod.isi.edu/resource/site__api-cdr-land-v1-docs-documents__02b1591cfad6809d1d9ea67ea04b34d2df8b16d5f34e4bba701a7924bab9c3b48d',\n",
       " 'ms_name': 'NI 43-101 Technical Report for the Läntinen Koillismaa project in Finland dated May, 2021.pdf',\n",
       " 'country': 'Finland',\n",
       " 'state_or_province': 'Central Finland',\n",
       " 'loc_crs': 'EPSG:4326',\n",
       " 'loc_wkt': 'POINT(28.128333 65.905722)',\n",
       " 'doc_url': 'https://api.cdr.land/v1/docs/documents/02b1591cfad6809d1d9ea67ea04b34d2df8b16d5f34e4bba701a7924bab9c3b48d',\n",
       " 'tot_contained_metal': 7.6917e-05,\n",
       " 'total_tonnage': 130.9,\n",
       " 'total_grade': 5.876012223071046e-05}"
      ]
     },
     "execution_count": 12,
     "metadata": {},
     "output_type": "execute_result"
    }
   ],
   "source": [
    "grade_tonnage_resp.json()[0]"
   ]
  },
  {
   "cell_type": "code",
   "execution_count": 37,
   "metadata": {},
   "outputs": [
    {
     "data": {
      "text/plain": [
       "4105"
      ]
     },
     "execution_count": 37,
     "metadata": {},
     "output_type": "execute_result"
    }
   ],
   "source": [
    "len(site_ids)"
   ]
  },
  {
   "cell_type": "code",
   "execution_count": 18,
   "metadata": {},
   "outputs": [],
   "source": [
    "r = httpx.get(\n",
    "    \"https://minmod.isi.edu/api/v1/mineral_site_deposit_types/nickel\", verify=False\n",
    ")"
   ]
  },
  {
   "cell_type": "code",
   "execution_count": 27,
   "metadata": {},
   "outputs": [],
   "source": [
    "r = httpx.get(\n",
    "    \"https://minmod.isi.edu/api/v1/mineral_site_deposit_types/zinc\",\n",
    "    verify=False,\n",
    "    timeout=None,\n",
    ")"
   ]
  },
  {
   "cell_type": "code",
   "execution_count": 26,
   "metadata": {},
   "outputs": [
    {
     "ename": "NameError",
     "evalue": "name 'grade_tonnage_resp' is not defined",
     "output_type": "error",
     "traceback": [
      "\u001b[0;31m---------------------------------------------------------------------------\u001b[0m",
      "\u001b[0;31mNameError\u001b[0m                                 Traceback (most recent call last)",
      "Cell \u001b[0;32mIn[26], line 1\u001b[0m\n\u001b[0;32m----> 1\u001b[0m \u001b[43mgrade_tonnage_resp\u001b[49m\n",
      "\u001b[0;31mNameError\u001b[0m: name 'grade_tonnage_resp' is not defined"
     ]
    }
   ],
   "source": [
    "grade_tonnage_resp"
   ]
  },
  {
   "cell_type": "code",
   "execution_count": 25,
   "metadata": {},
   "outputs": [
    {
     "data": {
      "text/plain": [
       "28658"
      ]
     },
     "execution_count": 25,
     "metadata": {},
     "output_type": "execute_result"
    }
   ],
   "source": [
    "len(r.json())"
   ]
  },
  {
   "cell_type": "code",
   "execution_count": 7,
   "metadata": {},
   "outputs": [],
   "source": [
    "r = httpx.get(\n",
    "    \"https://api.cdr.land/v1/minerals/sites?fields=\",\n",
    "    headers=headers,\n",
    "    follow_redirects=True,\n",
    ")"
   ]
  },
  {
   "cell_type": "code",
   "execution_count": 9,
   "metadata": {},
   "outputs": [],
   "source": [
    "dat = r.json()"
   ]
  },
  {
   "cell_type": "code",
   "execution_count": 15,
   "metadata": {},
   "outputs": [
    {
     "data": {
      "text/plain": [
       "{'system_version': '0.1.0',\n",
       " 'name': 'Alma',\n",
       " 'source_id': 'https://mrdata.usgs.gov/mrds',\n",
       " 'site_type': 'Past Producer',\n",
       " 'id': 'site__mrdata-usgs-gov-mrds__10036253',\n",
       " 'system': 'bulkingest',\n",
       " 'validated': False,\n",
       " 'record_id': '10036253',\n",
       " 'site_rank': 'B',\n",
       " 'country': [{'name': 'United States',\n",
       "   'id': '75fd64387e1749b18630163215b6f22d',\n",
       "   'mineral_site_id': 'site__mrdata-usgs-gov-mrds__10036253'}],\n",
       " 'mineral_inventory': [{'ore_value': None,\n",
       "   'material_form_conversion': None,\n",
       "   'mineral_site_id': 'site__mrdata-usgs-gov-mrds__10036253',\n",
       "   'ore_unit': '',\n",
       "   'material_form_observed_name': '',\n",
       "   'cutoff_grade': None,\n",
       "   'id': '01a9903730d1483dae258b78f07a3d64',\n",
       "   'contained_metal': None,\n",
       "   'cutoff_unit': '',\n",
       "   'date': '',\n",
       "   'grade_value': None,\n",
       "   'grade_unit': '',\n",
       "   'zone': '',\n",
       "   'commodity': 'Sulfur',\n",
       "   'material_form': None,\n",
       "   'commodity_observed_name': 'Sulfur',\n",
       "   'material_form_unit': '',\n",
       "   'documents': [],\n",
       "   'records': [{'mineral_inventory_id': '01a9903730d1483dae258b78f07a3d64',\n",
       "     'id': '451453f6ac1e4e9aa9b643f414534510',\n",
       "     'uri': 'https://mrdata.usgs.gov/mrds',\n",
       "     'source': '',\n",
       "     'record_id': '10036253'}],\n",
       "   'confidence': None,\n",
       "   'categories': []},\n",
       "  {'ore_value': None,\n",
       "   'material_form_conversion': None,\n",
       "   'mineral_site_id': 'site__mrdata-usgs-gov-mrds__10036253',\n",
       "   'ore_unit': '',\n",
       "   'material_form_observed_name': '',\n",
       "   'cutoff_grade': None,\n",
       "   'id': 'e8fc451a67df49c89d488e570f739486',\n",
       "   'contained_metal': None,\n",
       "   'cutoff_unit': '',\n",
       "   'date': '',\n",
       "   'grade_value': None,\n",
       "   'grade_unit': '',\n",
       "   'zone': '',\n",
       "   'commodity': 'Copper',\n",
       "   'material_form': None,\n",
       "   'commodity_observed_name': 'Copper',\n",
       "   'material_form_unit': '',\n",
       "   'documents': [],\n",
       "   'records': [{'mineral_inventory_id': 'e8fc451a67df49c89d488e570f739486',\n",
       "     'id': 'b840a549bc874ac687ccab0432258aef',\n",
       "     'uri': 'https://mrdata.usgs.gov/mrds',\n",
       "     'source': '',\n",
       "     'record_id': '10036253'}],\n",
       "   'confidence': None,\n",
       "   'categories': []},\n",
       "  {'ore_value': None,\n",
       "   'material_form_conversion': None,\n",
       "   'mineral_site_id': 'site__mrdata-usgs-gov-mrds__10036253',\n",
       "   'ore_unit': '',\n",
       "   'material_form_observed_name': '',\n",
       "   'cutoff_grade': None,\n",
       "   'id': '5ade60e7ef0244b8a628d2cdfee21fe8',\n",
       "   'contained_metal': None,\n",
       "   'cutoff_unit': '',\n",
       "   'date': '',\n",
       "   'grade_value': None,\n",
       "   'grade_unit': '',\n",
       "   'zone': '',\n",
       "   'commodity': 'Sulfur',\n",
       "   'material_form': None,\n",
       "   'commodity_observed_name': 'Sulfur',\n",
       "   'material_form_unit': '',\n",
       "   'documents': [],\n",
       "   'records': [{'mineral_inventory_id': '5ade60e7ef0244b8a628d2cdfee21fe8',\n",
       "     'id': '5e374be7c1d248448ecbedef70d317d3',\n",
       "     'uri': 'https://mrdata.usgs.gov/mrds',\n",
       "     'source': '',\n",
       "     'record_id': '10036253'}],\n",
       "   'confidence': None,\n",
       "   'categories': []},\n",
       "  {'ore_value': None,\n",
       "   'material_form_conversion': None,\n",
       "   'mineral_site_id': 'site__mrdata-usgs-gov-mrds__10036253',\n",
       "   'ore_unit': '',\n",
       "   'material_form_observed_name': '',\n",
       "   'cutoff_grade': None,\n",
       "   'id': '43d330a2fb8f4cea9626d7fe1184c1ee',\n",
       "   'contained_metal': None,\n",
       "   'cutoff_unit': '',\n",
       "   'date': '',\n",
       "   'grade_value': None,\n",
       "   'grade_unit': '',\n",
       "   'zone': '',\n",
       "   'commodity': 'Copper',\n",
       "   'material_form': None,\n",
       "   'commodity_observed_name': 'Copper',\n",
       "   'material_form_unit': '',\n",
       "   'documents': [],\n",
       "   'records': [{'mineral_inventory_id': '43d330a2fb8f4cea9626d7fe1184c1ee',\n",
       "     'id': 'acd181b825344b9cb3ea4754fafc2601',\n",
       "     'uri': 'https://mrdata.usgs.gov/mrds',\n",
       "     'source': '',\n",
       "     'record_id': '10036253'}],\n",
       "   'confidence': None,\n",
       "   'categories': []}],\n",
       " 'province': [{'mineral_site_id': 'site__mrdata-usgs-gov-mrds__10036253',\n",
       "   'name': 'California',\n",
       "   'id': '4e373a59158341929bf1e834d3cc0767'}],\n",
       " 'deposit_type_candidate': [{'deposit_type_id': 'Q412',\n",
       "   'confidence': 1.0,\n",
       "   'mineral_site_id': 'site__mrdata-usgs-gov-mrds__10036253',\n",
       "   'id': '8465753b376b4be6b137b96787a32447',\n",
       "   'observed_name': 'Bimodal felsic VMS',\n",
       "   'source': 'algorithm predictions, SRI crosswalk agent v0',\n",
       "   'deposit_type': {'environment': 'Volcanic basin hydrothermal',\n",
       "    'id': 'Q412',\n",
       "    'name': 'Bimodal felsic VMS',\n",
       "    'group': 'Volcanogenic massive sulfide (VMS)'}}],\n",
       " 'same_as': [{'site_b_id': 'site__mrdata-usgs-gov-mrds__10036253',\n",
       "   'site_a_id': 'site__mrdata-usgs-gov-mrds__10027996',\n",
       "   'id': '8a5636ed66df4a06a07b0a6390e61abb'}],\n",
       " 'location': {'mineral_site_id': 'site__mrdata-usgs-gov-mrds__10036253',\n",
       "  'crs': 'EPSG:4326',\n",
       "  'geom': 'POINT (-122.17215 37.80379)',\n",
       "  'id': 'ea983c8bdf224332bb62818e51d4f462'}}"
      ]
     },
     "execution_count": 15,
     "metadata": {},
     "output_type": "execute_result"
    }
   ],
   "source": [
    "dat[0]"
   ]
  },
  {
   "cell_type": "code",
   "execution_count": 13,
   "metadata": {},
   "outputs": [
    {
     "data": {
      "text/plain": [
       "10"
      ]
     },
     "execution_count": 13,
     "metadata": {},
     "output_type": "execute_result"
    }
   ],
   "source": [
    "len(dat)"
   ]
  }
 ],
 "metadata": {
  "kernelspec": {
   "display_name": ".venv",
   "language": "python",
   "name": "python3"
  },
  "language_info": {
   "codemirror_mode": {
    "name": "ipython",
    "version": 3
   },
   "file_extension": ".py",
   "mimetype": "text/x-python",
   "name": "python",
   "nbconvert_exporter": "python",
   "pygments_lexer": "ipython3",
   "version": "3.11.9"
  }
 },
 "nbformat": 4,
 "nbformat_minor": 2
}
